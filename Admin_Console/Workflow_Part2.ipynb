{
 "cells": [
  {
   "cell_type": "markdown",
   "id": "b8fadb34",
   "metadata": {},
   "source": [
    "# Measure the adoption of your Amazon QuickSight dashboards and manage the assets [2025 version]"
   ]
  },
  {
   "cell_type": "code",
   "execution_count": 12,
   "id": "7933434c",
   "metadata": {
    "jupyter": {
     "source_hidden": true
    }
   },
   "outputs": [
    {
     "data": {
      "text/html": [
       "<a href=\"https://d172fagwhsdxeg.cloudfront.net/index.html?dashboardid=deeb0ed5-3260-4023-8b11-dcd604d76332&dashboardregion=us-east-1\" target=\"_blank\">Click here to open the sample dashboard</a>"
      ],
      "text/plain": [
       "<IPython.core.display.HTML object>"
      ]
     },
     "execution_count": 12,
     "metadata": {},
     "output_type": "execute_result"
    }
   ],
   "source": [
    "from IPython.display import HTML\n",
    "\n",
    "HTML('<a href=\"https://d172fagwhsdxeg.cloudfront.net/index.html?dashboardid=deeb0ed5-3260-4023-8b11-dcd604d76332&dashboardregion=us-east-1\" target=\"_blank\">Click here to open the sample dashboard</a>')\n",
    "\n",
    "\n",
    "#show_webpage(\"https://d172fagwhsdxeg.cloudfront.net/index.html?dashboardid=deeb0ed5-3260-4023-8b11-dcd604d76332&dashboardregion=us-east-1\")"
   ]
  },
  {
   "cell_type": "code",
   "execution_count": 24,
   "id": "7d5e813c",
   "metadata": {
    "jupyter": {
     "source_hidden": true
    }
   },
   "outputs": [
    {
     "data": {
      "text/html": [
       "<a href=\"https://aws.amazon.com/blogs/big-data/using-administrative-dashboards-for-a-centralized-view-of-amazon-quicksight-objects/\" target=\"_blank\">Click here to open the 2020 blog</a>"
      ],
      "text/plain": [
       "<IPython.core.display.HTML object>"
      ]
     },
     "execution_count": 24,
     "metadata": {},
     "output_type": "execute_result"
    }
   ],
   "source": [
    "from IPython.display import HTML\n",
    "\n",
    "\n",
    "HTML('<a href=\"https://aws.amazon.com/blogs/big-data/using-administrative-dashboards-for-a-centralized-view-of-amazon-quicksight-objects/\" target=\"_blank\">Click here to open the 2020 blog</a>')\n",
    "\n"
   ]
  },
  {
   "cell_type": "code",
   "execution_count": 25,
   "id": "215bee17",
   "metadata": {
    "jupyter": {
     "source_hidden": true
    }
   },
   "outputs": [
    {
     "data": {
      "text/html": [
       "<a href=\"https://aws.amazon.com/blogs/big-data/building-an-administrative-console-in-amazon-quicksight-to-analyze-usage-metrics/\" target=\"_blank\">Click here to open the 2021 blog</a>"
      ],
      "text/plain": [
       "<IPython.core.display.HTML object>"
      ]
     },
     "execution_count": 25,
     "metadata": {},
     "output_type": "execute_result"
    }
   ],
   "source": [
    "from IPython.display import HTML\n",
    "\n",
    "\n",
    "HTML('<a href=\"https://aws.amazon.com/blogs/big-data/building-an-administrative-console-in-amazon-quicksight-to-analyze-usage-metrics/\" target=\"_blank\">Click here to open the 2021 blog</a>')\n",
    "\n",
    "\n"
   ]
  },
  {
   "cell_type": "code",
   "execution_count": 26,
   "id": "2dbd3a4b",
   "metadata": {
    "jupyter": {
     "source_hidden": true
    }
   },
   "outputs": [
    {
     "data": {
      "text/html": [
       "<a href=\"https://aws.amazon.com/blogs/business-intelligence/measure-the-adoption-of-your-amazon-quicksight-dashboards-and-view-your-bi-portfolio-in-a-single-pane-of-glass/\" target=\"_blank\">Click here to open the 2022 blog</a>"
      ],
      "text/plain": [
       "<IPython.core.display.HTML object>"
      ]
     },
     "execution_count": 26,
     "metadata": {},
     "output_type": "execute_result"
    }
   ],
   "source": [
    "from IPython.display import HTML\n",
    "\n",
    "HTML('<a href=\"https://aws.amazon.com/blogs/business-intelligence/measure-the-adoption-of-your-amazon-quicksight-dashboards-and-view-your-bi-portfolio-in-a-single-pane-of-glass/\" target=\"_blank\">Click here to open the 2022 blog</a>')\n",
    "\n",
    "\n"
   ]
  },
  {
   "cell_type": "markdown",
   "id": "36822cc4",
   "metadata": {},
   "source": [
    "## The sample screenshot"
   ]
  },
  {
   "cell_type": "code",
   "execution_count": 15,
   "id": "48d4f560",
   "metadata": {
    "jupyter": {
     "source_hidden": true
    }
   },
   "outputs": [
    {
     "data": {
      "text/html": [
       "<img src=\"https://d2908q01vomqb2.cloudfront.net/b6692ea5df920cad691c20319a6fffd7a4a766b8/2022/10/13/l4-1024x610.png\"/>"
      ],
      "text/plain": [
       "<IPython.core.display.Image object>"
      ]
     },
     "execution_count": 15,
     "metadata": {},
     "output_type": "execute_result"
    }
   ],
   "source": [
    "from IPython.display import Image\n",
    "from IPython.core.display import HTML \n",
    "Image(url= \"https://d2908q01vomqb2.cloudfront.net/b6692ea5df920cad691c20319a6fffd7a4a766b8/2022/10/13/l4-1024x610.png\")"
   ]
  },
  {
   "cell_type": "markdown",
   "id": "a9eed763",
   "metadata": {},
   "source": [
    "## The architecture diagram"
   ]
  },
  {
   "cell_type": "code",
   "execution_count": 27,
   "id": "8f98c80a",
   "metadata": {},
   "outputs": [
    {
     "data": {
      "text/html": [
       "<img src=\"https://d32le6a78ncrct.cloudfront.net/image/Admin_Console_Arch.drawio.png\"/>"
      ],
      "text/plain": [
       "<IPython.core.display.Image object>"
      ]
     },
     "execution_count": 27,
     "metadata": {},
     "output_type": "execute_result"
    }
   ],
   "source": [
    "from IPython.display import Image\n",
    "from IPython.core.display import HTML \n",
    "Image(url= \"https://d32le6a78ncrct.cloudfront.net/image/Admin_Console_Arch.drawio.png\")"
   ]
  },
  {
   "cell_type": "markdown",
   "id": "ad69ad4e",
   "metadata": {},
   "source": [
    "**Above workflow involves the following steps:**\n",
    "\n",
    "1. The AWS Glue Python Shell job is scheduled to run hourly on regular basis. This process calls QuickSight APIs to get the QuickSight namespace, group, user, and asset access permissions information and save the results into Amazon Simple Storage Service (Amazon S3) bucket.\n",
    "2. AWS CloudTrail logs are stored in an S3 bucket.\n",
    "3. Based on the file in Amazon S3 that contains user-group information, dataset information, QuickSight assets access permissions information, as well as dashboard views and user login events from the CloudTrail logs, five Amazon Athena tables are created. Optionally,\n",
    "    a. You can access the Amazon S3 data using Amazon Redshift spectrum tables\n",
    "    b. Also, the BI engineer can combine these tables with employee information tables to display human resource information of the users.\n",
    "4. Four QuickSight datasets fetch the data from the Athena tables created in Step 3 and import them into SPICE. Then, based on these datasets, a QuickSight dashboard is created.\n",
    "\n",
    "**Ref**\n",
    "https://docs.aws.amazon.com/quicksight/latest/user/logging-non-api.html"
   ]
  },
  {
   "cell_type": "markdown",
   "id": "2788bb5f",
   "metadata": {},
   "source": [
    "**Prerequisites**\n",
    "For this walkthrough, you should have the following prerequisites:\n",
    "\n",
    "* An AWS account\n",
    "* Access to the following AWS services:\n",
    "    * AWS Athena\n",
    "    * AWS CloudFormation\n",
    "    * AWS QuickSight\n",
    "    * Amazon Simple Storage Service (Amazon S3)\n",
    "    * AWS Glue\n",
    "    * Amazon Redshift (Optional)\n",
    "    * Basic knowledge of Python\n",
    "    * Basic knowledge of SQL"
   ]
  },
  {
   "cell_type": "markdown",
   "id": "e37d60db",
   "metadata": {},
   "source": [
    "### CloudFormation template for AWS Glue Python Shell job"
   ]
  },
  {
   "cell_type": "code",
   "execution_count": 3,
   "id": "2045e42f",
   "metadata": {},
   "outputs": [
    {
     "data": {
      "text/html": [
       "<a href=\"https://console.aws.amazon.com/cloudformation/home?region=us-east-1#/stacks/create/template?stackName=adminconsoleglue&templateURL=https://admin-console-cfn-dataprepare-code.s3.us-east-1.amazonaws.com/cfn/admin_console_glue_2025_folder_q-updated.template\" target=\"_blank\"><img src=\"https://d32le6a78ncrct.cloudfront.net/image/Picture1.png\" width=\"300\"/></a>"
      ],
      "text/plain": [
       "<IPython.core.display.HTML object>"
      ]
     },
     "execution_count": 3,
     "metadata": {},
     "output_type": "execute_result"
    }
   ],
   "source": [
    "from IPython.display import HTML\n",
    "\n",
    "image_url = \"https://d32le6a78ncrct.cloudfront.net/image/Picture1.png\"\n",
    "link_url = \"https://console.aws.amazon.com/cloudformation/home?region=us-east-1#/stacks/create/template?stackName=adminconsoleglue&templateURL=https://admin-console-cfn-dataprepare-code.s3.us-east-1.amazonaws.com/cfn/admin_console_glue_2025_folder_q-updated.template\"\n",
    "\n",
    "HTML(f'<a href=\"{link_url}\" target=\"_blank\"><img src=\"{image_url}\" width=\"300\"/></a>')"
   ]
  },
  {
   "cell_type": "markdown",
   "id": "15b69f4e",
   "metadata": {},
   "source": [
    "* In the Glue console, manually run the `adminconsoledatasetdashboardinfo` and `adminconsoleuserdataaccessinfo` jobs to quickly generate the datasets instead of waiting for the next scheduled run.\n",
    "* Verify the data is available in the `admin-console-new-[AWS-account-ID]` S3 bucket after the jobs complete.\n",
    "* If data is in the S3 bucket, continue deployment of the remaining modules."
   ]
  },
  {
   "cell_type": "markdown",
   "id": "ff3ed292",
   "metadata": {},
   "source": [
    "### Enable CloudTrail Log\n",
    "\n",
    "* Create a CloudTrail log if you don’t already have one and note down the S3 bucket name of the log files for future use.\n",
    "* Note down all the resources created from the previous steps. If the S3 bucket name for the CloudTrail log from step 2 is different from the one in step 1’s output, use the S3 bucket from step 2."
   ]
  },
  {
   "cell_type": "markdown",
   "id": "866465cf",
   "metadata": {},
   "source": [
    "### CloudFormation template for Athena tables<br>\n",
    "To create your Athena tables, complete the following steps:<br>\n",
    "The following table summarizes the keys and values you use when creating the Athena tables with the next CloudFormation stack.\n",
    "\n",
    "| Key            | Value                       | Description                                                           |\n",
    "|----------------|-----------------------------|-----------------------------------------------------------------------|\n",
    "| CloudtrailLocation         | for example: cloudtrail-awslogs-[aws-account-id]-do-not-delete/AWSLogs/[aws-account-id]           | The Amazon S3 location of the CloudTrail log end with `CloudTrail/`                      |\n",
    "| StartDateParameter        | for example: `2023/02/01`       | The date for the first log CloudTrail delivered to that location, in YYYY/MM/DD format         |\n"
   ]
  },
  {
   "cell_type": "markdown",
   "id": "06e90b3a",
   "metadata": {},
   "source": [
    "You can find the location of your CloudTrail logs in the CloudTrail management console:"
   ]
  },
  {
   "cell_type": "code",
   "execution_count": 22,
   "id": "a64015cf",
   "metadata": {
    "jupyter": {
     "source_hidden": true
    }
   },
   "outputs": [
    {
     "data": {
      "text/html": [
       "<img src=\"https://d2908q01vomqb2.cloudfront.net/d02560dd9d7db4467627745bd6701e809ffca6e3/2024/09/19/CT1.png\"/>"
      ],
      "text/plain": [
       "<IPython.core.display.Image object>"
      ]
     },
     "execution_count": 22,
     "metadata": {},
     "output_type": "execute_result"
    }
   ],
   "source": [
    "from IPython.display import Image\n",
    "from IPython.core.display import HTML \n",
    "Image(url= \"https://d2908q01vomqb2.cloudfront.net/d02560dd9d7db4467627745bd6701e809ffca6e3/2024/09/19/CT1.png\")"
   ]
  },
  {
   "cell_type": "markdown",
   "id": "43574fed",
   "metadata": {},
   "source": [
    "And the date of the first log file delivered by CloudTrail in the S3 management console:"
   ]
  },
  {
   "cell_type": "code",
   "execution_count": 25,
   "id": "03e0e93b",
   "metadata": {
    "jupyter": {
     "source_hidden": true
    }
   },
   "outputs": [
    {
     "data": {
      "text/html": [
       "<img src=\"https://d2908q01vomqb2.cloudfront.net/d02560dd9d7db4467627745bd6701e809ffca6e3/2024/09/19/CT2.png\"/>"
      ],
      "text/plain": [
       "<IPython.core.display.Image object>"
      ]
     },
     "execution_count": 25,
     "metadata": {},
     "output_type": "execute_result"
    }
   ],
   "source": [
    "from IPython.display import Image\n",
    "from IPython.core.display import HTML \n",
    "Image(url= \"https://d2908q01vomqb2.cloudfront.net/d02560dd9d7db4467627745bd6701e809ffca6e3/2024/09/19/CT2.png\")"
   ]
  },
  {
   "cell_type": "markdown",
   "id": "c951de91",
   "metadata": {},
   "source": [
    "### Choose the below Launch Stack to create the Athena tables."
   ]
  },
  {
   "cell_type": "code",
   "execution_count": 2,
   "id": "f267c6bf",
   "metadata": {},
   "outputs": [
    {
     "data": {
      "text/html": [
       "<a href=\"https://console.aws.amazon.com/cloudformation/home?region=us-east-1#/stacks/create/template?stackName=adminconsoleathena&templateURL=https://admin-console-cfn-dataprepare-code.s3.us-east-1.amazonaws.com/cfn/admin-console-athena-tables-2025-folder_q-updated.template\" target=\"_blank\"><img src=\"https://d32le6a78ncrct.cloudfront.net/image/Picture1.png\" width=\"300\"/></a>"
      ],
      "text/plain": [
       "<IPython.core.display.HTML object>"
      ]
     },
     "execution_count": 2,
     "metadata": {},
     "output_type": "execute_result"
    }
   ],
   "source": [
    "from IPython.display import HTML\n",
    "\n",
    "image_url = \"https://d32le6a78ncrct.cloudfront.net/image/Picture1.png\"\n",
    "link_url = \"https://console.aws.amazon.com/cloudformation/home?region=us-east-1#/stacks/create/template?stackName=adminconsoleathena&templateURL=https://admin-console-cfn-dataprepare-code.s3.us-east-1.amazonaws.com/cfn/admin-console-athena-tables-2025-folder_q-updated.template\"\n",
    "\n",
    "HTML(f'<a href=\"{link_url}\" target=\"_blank\"><img src=\"{image_url}\" width=\"300\"/></a>')"
   ]
  },
  {
   "cell_type": "markdown",
   "id": "27ba875c",
   "metadata": {},
   "source": [
    "After a successful deployment, you have a database called `admin-console-2025` created in AwsDataCatalog in Athena and five tables in the database: `cloudtrail_logs_pp`, `group_membership`, `object_access`, `datasets_info` and `data_dict`.  \n",
    "* Confirm the tables via the Athena console."
   ]
  },
  {
   "cell_type": "markdown",
   "id": "e69693fe",
   "metadata": {},
   "source": [
    "For instructions on building an Athena table with CloudTrail events, see [Amazon QuickSight Now Supports Audit Logging with AWS CloudTrail](https://aws.amazon.com/blogs/big-data/amazon-quicksight-now-supports-audit-logging-with-cloudtrail/)"
   ]
  },
  {
   "cell_type": "markdown",
   "id": "0745eb03",
   "metadata": {},
   "source": [
    "* After all five tables are created in Athena, go to the security permissions on the QuickSight console to enable bucket access for s3://admin-console[AWS-account-ID] and s3://cloudtrail-awslogs-[aws-account-id]-do-not-delete (or the appropriate S3 bucket if you used a different name).\n",
    "* Go to Lakeformation to grant the database and table access to QuickSight service role and the admin console execution role\n",
    "* Enable Athena access under Security & Permissions.<br>\n",
    "Now QuickSight can access all five tables through Athena."
   ]
  },
  {
   "cell_type": "markdown",
   "id": "6b5e9a83",
   "metadata": {},
   "source": [
    "### CloudFormation template for QuickSight objects"
   ]
  },
  {
   "cell_type": "markdown",
   "id": "ce1aa80d",
   "metadata": {},
   "source": [
    "To create the QuickSight objects, complete the following steps:\n",
    "\n",
    "* Get the QuickSight admin user’s ARN by running following command in the AWS Command Line Interface (AWS CLI):\n",
    "`aws quicksight describe-user --aws-account-id [aws-account-id] --namespace default --user-name [admin-user-name]` \n",
    "\n",
    "For example: arn:aws:quicksight:us-east-1:12345678910:user/default/admin/xyz.  "
   ]
  },
  {
   "cell_type": "code",
   "execution_count": 26,
   "id": "bde57b40",
   "metadata": {
    "jupyter": {
     "source_hidden": true
    }
   },
   "outputs": [
    {
     "data": {
      "text/plain": [
       "'arn:aws:quicksight:us-east-1:499080683179:user/default/admin/wangzyn-Isengard'"
      ]
     },
     "execution_count": 26,
     "metadata": {},
     "output_type": "execute_result"
    }
   ],
   "source": [
    "import json\n",
    "import boto3\n",
    "import logging\n",
    "import csv\n",
    "import io\n",
    "import os\n",
    "import tempfile\n",
    "from typing import Any, Callable, Dict, List, Optional, Union\n",
    "import sys\n",
    "import botocore\n",
    "\n",
    "#start-Initial set up for the sdk env#\n",
    "def default_botocore_config() -> botocore.config.Config:\n",
    "    \"\"\"Botocore configuration.\"\"\"\n",
    "    retries_config: Dict[str, Union[str, int]] = {\n",
    "        \"max_attempts\": int(os.getenv(\"AWS_MAX_ATTEMPTS\", \"5\")),\n",
    "    }\n",
    "    mode: Optional[str] = os.getenv(\"AWS_RETRY_MODE\")\n",
    "    if mode:\n",
    "        retries_config[\"mode\"] = mode\n",
    "    return botocore.config.Config(\n",
    "        retries=retries_config,\n",
    "        connect_timeout=10,\n",
    "        max_pool_connections=10,\n",
    "        user_agent_extra=f\"qs_sdk_admin_console\",\n",
    "    )\n",
    "sts_client = boto3.client(\"sts\", config=default_botocore_config())\n",
    "account_id = sts_client.get_caller_identity()[\"Account\"]\n",
    "aws_region = 'us-east-1'\n",
    "qs_client = boto3.client('quicksight', region_name=aws_region, config=default_botocore_config())\n",
    "\n",
    "\n",
    "arn = qs_client.describe_user(\n",
    "    UserName='admin/wangzyn-Isengard',\n",
    "    AwsAccountId=account_id,\n",
    "    Namespace='default'\n",
    ")\n",
    "\n",
    "arn = arn['User']['Arn']\n",
    "arn"
   ]
  },
  {
   "cell_type": "markdown",
   "id": "13f15c2e",
   "metadata": {},
   "source": [
    "### Choose the below Launch Stack to create the QuickSight objects."
   ]
  },
  {
   "cell_type": "code",
   "execution_count": 1,
   "id": "4edc8346",
   "metadata": {},
   "outputs": [
    {
     "data": {
      "text/html": [
       "<a href=\"https://us-east-1.console.aws.amazon.com/s3/object/admin-console-cfn-dataprepare-code?region=us-east-1&bucketType=general&prefix=cfn/admin-console-qs-analysis-template-2025-added-datasets.template\" target=\"_blank\"><img src=\"https://d32le6a78ncrct.cloudfront.net/image/Picture1.png\" width=\"300\"/></a>"
      ],
      "text/plain": [
       "<IPython.core.display.HTML object>"
      ]
     },
     "execution_count": 1,
     "metadata": {},
     "output_type": "execute_result"
    }
   ],
   "source": [
    "from IPython.display import HTML\n",
    "\n",
    "image_url = \"https://d32le6a78ncrct.cloudfront.net/image/Picture1.png\"\n",
    "link_url = \"https://us-east-1.console.aws.amazon.com/s3/object/admin-console-cfn-dataprepare-code?region=us-east-1&bucketType=general&prefix=cfn/admin-console-qs-analysis-template-2025-added-datasets.template\"\n",
    "\n",
    "HTML(f'<a href=\"{link_url}\" target=\"_blank\"><img src=\"{image_url}\" width=\"300\"/></a>')"
   ]
  },
  {
   "cell_type": "markdown",
   "id": "66d4f8da",
   "metadata": {},
   "source": [
    "**Set the CFN execution role to be arn:aws:iam::[accountId]:role/QuickSightAdminConsole2025**"
   ]
  },
  {
   "cell_type": "code",
   "execution_count": null,
   "id": "0926f9ae",
   "metadata": {},
   "outputs": [],
   "source": []
  }
 ],
 "metadata": {
  "kernelspec": {
   "display_name": "conda_python3",
   "language": "python",
   "name": "conda_python3"
  },
  "language_info": {
   "codemirror_mode": {
    "name": "ipython",
    "version": 3
   },
   "file_extension": ".py",
   "mimetype": "text/x-python",
   "name": "python",
   "nbconvert_exporter": "python",
   "pygments_lexer": "ipython3",
   "version": "3.8.12"
  }
 },
 "nbformat": 4,
 "nbformat_minor": 5
}

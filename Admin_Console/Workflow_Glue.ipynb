{
 "cells": [
  {
   "cell_type": "markdown",
   "id": "36986853",
   "metadata": {},
   "source": [
    "# Measure the adoption of your Amazon QuickSight dashboards and manage the assets [2025 version]"
   ]
  },
  {
   "cell_type": "code",
   "execution_count": 12,
   "id": "da6d4137",
   "metadata": {
    "jupyter": {
     "source_hidden": true
    }
   },
   "outputs": [
    {
     "data": {
      "text/html": [
       "<a href=\"https://d172fagwhsdxeg.cloudfront.net/index.html?dashboardid=deeb0ed5-3260-4023-8b11-dcd604d76332&dashboardregion=us-east-1\" target=\"_blank\">Click here to open the sample dashboard</a>"
      ],
      "text/plain": [
       "<IPython.core.display.HTML object>"
      ]
     },
     "execution_count": 12,
     "metadata": {},
     "output_type": "execute_result"
    }
   ],
   "source": [
    "from IPython.display import HTML\n",
    "\n",
    "HTML('<a href=\"https://d172fagwhsdxeg.cloudfront.net/index.html?dashboardid=deeb0ed5-3260-4023-8b11-dcd604d76332&dashboardregion=us-east-1\" target=\"_blank\">Click here to open the sample dashboard</a>')\n",
    "\n",
    "\n",
    "#show_webpage(\"https://d172fagwhsdxeg.cloudfront.net/index.html?dashboardid=deeb0ed5-3260-4023-8b11-dcd604d76332&dashboardregion=us-east-1\")"
   ]
  },
  {
   "cell_type": "code",
   "execution_count": 24,
   "id": "6dc73044",
   "metadata": {
    "jupyter": {
     "source_hidden": true
    }
   },
   "outputs": [
    {
     "data": {
      "text/html": [
       "<a href=\"https://aws.amazon.com/blogs/big-data/using-administrative-dashboards-for-a-centralized-view-of-amazon-quicksight-objects/\" target=\"_blank\">Click here to open the 2020 blog</a>"
      ],
      "text/plain": [
       "<IPython.core.display.HTML object>"
      ]
     },
     "execution_count": 24,
     "metadata": {},
     "output_type": "execute_result"
    }
   ],
   "source": [
    "from IPython.display import HTML\n",
    "\n",
    "\n",
    "HTML('<a href=\"https://aws.amazon.com/blogs/big-data/using-administrative-dashboards-for-a-centralized-view-of-amazon-quicksight-objects/\" target=\"_blank\">Click here to open the 2020 blog</a>')\n",
    "\n"
   ]
  },
  {
   "cell_type": "code",
   "execution_count": 25,
   "id": "5b236b89",
   "metadata": {
    "jupyter": {
     "source_hidden": true
    }
   },
   "outputs": [
    {
     "data": {
      "text/html": [
       "<a href=\"https://aws.amazon.com/blogs/big-data/building-an-administrative-console-in-amazon-quicksight-to-analyze-usage-metrics/\" target=\"_blank\">Click here to open the 2021 blog</a>"
      ],
      "text/plain": [
       "<IPython.core.display.HTML object>"
      ]
     },
     "execution_count": 25,
     "metadata": {},
     "output_type": "execute_result"
    }
   ],
   "source": [
    "from IPython.display import HTML\n",
    "\n",
    "\n",
    "HTML('<a href=\"https://aws.amazon.com/blogs/big-data/building-an-administrative-console-in-amazon-quicksight-to-analyze-usage-metrics/\" target=\"_blank\">Click here to open the 2021 blog</a>')\n",
    "\n",
    "\n"
   ]
  },
  {
   "cell_type": "code",
   "execution_count": 26,
   "id": "ab856f6d",
   "metadata": {
    "jupyter": {
     "source_hidden": true
    }
   },
   "outputs": [
    {
     "data": {
      "text/html": [
       "<a href=\"https://aws.amazon.com/blogs/business-intelligence/measure-the-adoption-of-your-amazon-quicksight-dashboards-and-view-your-bi-portfolio-in-a-single-pane-of-glass/\" target=\"_blank\">Click here to open the 2022 blog</a>"
      ],
      "text/plain": [
       "<IPython.core.display.HTML object>"
      ]
     },
     "execution_count": 26,
     "metadata": {},
     "output_type": "execute_result"
    }
   ],
   "source": [
    "from IPython.display import HTML\n",
    "\n",
    "HTML('<a href=\"https://aws.amazon.com/blogs/business-intelligence/measure-the-adoption-of-your-amazon-quicksight-dashboards-and-view-your-bi-portfolio-in-a-single-pane-of-glass/\" target=\"_blank\">Click here to open the 2022 blog</a>')\n",
    "\n",
    "\n"
   ]
  },
  {
   "cell_type": "markdown",
   "id": "c3bfbca6",
   "metadata": {},
   "source": [
    "## The sample screenshot"
   ]
  },
  {
   "cell_type": "code",
   "execution_count": 15,
   "id": "2a3172fd",
   "metadata": {
    "jupyter": {
     "source_hidden": true
    }
   },
   "outputs": [
    {
     "data": {
      "text/html": [
       "<img src=\"https://d2908q01vomqb2.cloudfront.net/b6692ea5df920cad691c20319a6fffd7a4a766b8/2022/10/13/l4-1024x610.png\"/>"
      ],
      "text/plain": [
       "<IPython.core.display.Image object>"
      ]
     },
     "execution_count": 15,
     "metadata": {},
     "output_type": "execute_result"
    }
   ],
   "source": [
    "from IPython.display import Image\n",
    "from IPython.core.display import HTML \n",
    "Image(url= \"https://d2908q01vomqb2.cloudfront.net/b6692ea5df920cad691c20319a6fffd7a4a766b8/2022/10/13/l4-1024x610.png\")"
   ]
  },
  {
   "cell_type": "markdown",
   "id": "422d05c8",
   "metadata": {},
   "source": [
    "## The old architecture diagram"
   ]
  },
  {
   "cell_type": "code",
   "execution_count": 6,
   "id": "6e1efa5e",
   "metadata": {
    "jupyter": {
     "source_hidden": true
    }
   },
   "outputs": [
    {
     "data": {
      "text/html": [
       "<img src=\"https://d32le6a78ncrct.cloudfront.net/image/Old_Admin_Console_Arch.drawio.png\"/>"
      ],
      "text/plain": [
       "<IPython.core.display.Image object>"
      ]
     },
     "execution_count": 6,
     "metadata": {},
     "output_type": "execute_result"
    }
   ],
   "source": [
    "from IPython.display import Image\n",
    "from IPython.core.display import HTML \n",
    "Image(url= \"https://d32le6a78ncrct.cloudfront.net/image/Old_Admin_Console_Arch.drawio.png\")"
   ]
  },
  {
   "cell_type": "markdown",
   "id": "3ca3c017",
   "metadata": {},
   "source": [
    "## The new architecture diagram"
   ]
  },
  {
   "cell_type": "code",
   "execution_count": 27,
   "id": "0460fcf6",
   "metadata": {
    "jupyter": {
     "source_hidden": true
    }
   },
   "outputs": [
    {
     "data": {
      "text/html": [
       "<img src=\"https://d32le6a78ncrct.cloudfront.net/image/Admin_Console_Arch.drawio.png\"/>"
      ],
      "text/plain": [
       "<IPython.core.display.Image object>"
      ]
     },
     "execution_count": 27,
     "metadata": {},
     "output_type": "execute_result"
    }
   ],
   "source": [
    "from IPython.display import Image\n",
    "from IPython.core.display import HTML \n",
    "Image(url= \"https://d32le6a78ncrct.cloudfront.net/image/Admin_Console_Arch.drawio.png\")"
   ]
  },
  {
   "cell_type": "markdown",
   "id": "eef6d7fd",
   "metadata": {},
   "source": [
    "**Above workflow involves the following steps:**\n",
    "\n",
    "1. The AWS Glue Python Shell job is scheduled to run hourly on regular basis. This process calls QuickSight APIs to get the QuickSight namespace, group, user, and asset access permissions information and save the results into Amazon Simple Storage Service (Amazon S3) bucket.\n",
    "2. AWS CloudTrail logs are stored in an S3 bucket.\n",
    "3. Based on the file in Amazon S3 that contains user-group information, dataset information, QuickSight assets access permissions information, as well as dashboard views and user login events from the CloudTrail logs, five Amazon Athena tables are created. Optionally,\n",
    "    a. You can access the Amazon S3 data using Amazon Redshift spectrum tables\n",
    "    b. Also, the BI engineer can combine these tables with employee information tables to display human resource information of the users.\n",
    "4. Four QuickSight datasets fetch the data from the Athena tables created in Step 3 and import them into SPICE. Then, based on these datasets, a QuickSight dashboard is created.\n",
    "\n",
    "**Ref**\n",
    "https://docs.aws.amazon.com/quicksight/latest/user/logging-non-api.html"
   ]
  },
  {
   "cell_type": "markdown",
   "id": "0c74670d",
   "metadata": {},
   "source": [
    "**Prerequisites**\n",
    "For this walkthrough, you should have the following prerequisites:\n",
    "\n",
    "* An AWS account\n",
    "* Access to the following AWS services:\n",
    "    * AWS Athena\n",
    "    * AWS CloudFormation\n",
    "    *  ~~AWS Lambda~~ (Retired)\n",
    "    * AWS QuickSight\n",
    "    * Amazon Simple Storage Service (Amazon S3)\n",
    "    * AWS Glue ~~(Optional)~~ (Recommanded)\n",
    "    *  Amazon Redshift (Optional)\n",
    "    * Basic knowledge of Python\n",
    "    * Basic knowledge of SQL"
   ]
  },
  {
   "cell_type": "markdown",
   "id": "fb584024",
   "metadata": {},
   "source": [
    "### CloudFormation template for AWS Glue Python Shell job"
   ]
  },
  {
   "cell_type": "code",
   "execution_count": 23,
   "id": "f77258fb",
   "metadata": {
    "jupyter": {
     "source_hidden": true
    }
   },
   "outputs": [
    {
     "data": {
      "text/html": [
       "<a href=\"https://console.aws.amazon.com/cloudformation/home?region=us-east-1#/stacks/create/template?stackName=adminconsoleglue&templateURL=https://admin-console-cfn-dataprepare-code.s3.us-east-1.amazonaws.com/cfn/admin_console_glue_2025.template\" target=\"_blank\"><img src=\"https://d32le6a78ncrct.cloudfront.net/image/Picture1.png\" width=\"300\"/></a>"
      ],
      "text/plain": [
       "<IPython.core.display.HTML object>"
      ]
     },
     "execution_count": 23,
     "metadata": {},
     "output_type": "execute_result"
    }
   ],
   "source": [
    "from IPython.display import HTML\n",
    "\n",
    "image_url = \"https://d32le6a78ncrct.cloudfront.net/image/Picture1.png\"\n",
    "link_url = \"https://console.aws.amazon.com/cloudformation/home?region=us-east-1#/stacks/create/template?stackName=adminconsoleglue&templateURL=https://admin-console-cfn-dataprepare-code.s3.us-east-1.amazonaws.com/cfn/admin_console_glue_2025.template\"\n",
    "\n",
    "HTML(f'<a href=\"{link_url}\" target=\"_blank\"><img src=\"{image_url}\" width=\"300\"/></a>')"
   ]
  },
  {
   "cell_type": "markdown",
   "id": "89a43f6f",
   "metadata": {},
   "source": [
    "* In the Glue console, manually run the `adminconsoledatasetdashboardinfo` and `adminconsoleuserdataaccessinfo` jobs to quickly generate the datasets instead of waiting for the next scheduled run.\n",
    "* Verify the data is available in the `admin-console-new-[AWS-account-ID]` S3 bucket after the jobs complete.\n",
    "* If data is in the S3 bucket, continue deployment of the remaining modules."
   ]
  },
  {
   "cell_type": "markdown",
   "id": "855b3100",
   "metadata": {},
   "source": [
    "### Enable CloudTrail Log\n",
    "\n",
    "* Create a CloudTrail log if you don’t already have one and note down the S3 bucket name of the log files for future use.\n",
    "* Note down all the resources created from the previous steps. If the S3 bucket name for the CloudTrail log from step 2 is different from the one in step 1’s output, use the S3 bucket from step 2."
   ]
  },
  {
   "cell_type": "markdown",
   "id": "085ee7c5",
   "metadata": {},
   "source": [
    "### CloudFormation template for Athena tables<br>\n",
    "To create your Athena tables, complete the following steps:<br>\n",
    "The following table summarizes the keys and values you use when creating the Athena tables with the next CloudFormation stack.\n",
    "\n",
    "| Key            | Value                       | Description                                                           |\n",
    "|----------------|-----------------------------|-----------------------------------------------------------------------|\n",
    "| CloudtrailLocation         | for example: cloudtrail-awslogs-[aws-account-id]-do-not-delete/AWSLogs/[aws-account-id]           | The Amazon S3 location of the CloudTrail log end with `CloudTrail/`                      |\n",
    "| StartDateParameter        | for example: `2023/02/01`       | The date for the first log CloudTrail delivered to that location, in YYYY/MM/DD format         |\n"
   ]
  },
  {
   "cell_type": "markdown",
   "id": "1a93d320",
   "metadata": {},
   "source": [
    "You can find the location of your CloudTrail logs in the CloudTrail management console:"
   ]
  },
  {
   "cell_type": "code",
   "execution_count": 22,
   "id": "8f9f5390",
   "metadata": {
    "jupyter": {
     "source_hidden": true
    }
   },
   "outputs": [
    {
     "data": {
      "text/html": [
       "<img src=\"https://d2908q01vomqb2.cloudfront.net/d02560dd9d7db4467627745bd6701e809ffca6e3/2024/09/19/CT1.png\"/>"
      ],
      "text/plain": [
       "<IPython.core.display.Image object>"
      ]
     },
     "execution_count": 22,
     "metadata": {},
     "output_type": "execute_result"
    }
   ],
   "source": [
    "from IPython.display import Image\n",
    "from IPython.core.display import HTML \n",
    "Image(url= \"https://d2908q01vomqb2.cloudfront.net/d02560dd9d7db4467627745bd6701e809ffca6e3/2024/09/19/CT1.png\")"
   ]
  },
  {
   "cell_type": "markdown",
   "id": "6cf817a6",
   "metadata": {},
   "source": [
    "And the date of the first log file delivered by CloudTrail in the S3 management console:"
   ]
  },
  {
   "cell_type": "code",
   "execution_count": 25,
   "id": "7c371c30",
   "metadata": {
    "jupyter": {
     "source_hidden": true
    }
   },
   "outputs": [
    {
     "data": {
      "text/html": [
       "<img src=\"https://d2908q01vomqb2.cloudfront.net/d02560dd9d7db4467627745bd6701e809ffca6e3/2024/09/19/CT2.png\"/>"
      ],
      "text/plain": [
       "<IPython.core.display.Image object>"
      ]
     },
     "execution_count": 25,
     "metadata": {},
     "output_type": "execute_result"
    }
   ],
   "source": [
    "from IPython.display import Image\n",
    "from IPython.core.display import HTML \n",
    "Image(url= \"https://d2908q01vomqb2.cloudfront.net/d02560dd9d7db4467627745bd6701e809ffca6e3/2024/09/19/CT2.png\")"
   ]
  },
  {
   "cell_type": "markdown",
   "id": "69fa1912",
   "metadata": {},
   "source": [
    "### Choose the below Launch Stack to create the Athena tables."
   ]
  },
  {
   "cell_type": "code",
   "execution_count": 21,
   "id": "ff691a59",
   "metadata": {
    "jupyter": {
     "source_hidden": true
    }
   },
   "outputs": [
    {
     "data": {
      "text/html": [
       "<a href=\"https://console.aws.amazon.com/cloudformation/home?region=us-east-1#/stacks/create/template?stackName=adminconsoleathena&templateURL=https://admin-console-cfn-dataprepare-code.s3.us-east-1.amazonaws.com/cfn/admin-console-athena-tables-2025.template\" target=\"_blank\"><img src=\"https://d32le6a78ncrct.cloudfront.net/image/Picture1.png\" width=\"300\"/></a>"
      ],
      "text/plain": [
       "<IPython.core.display.HTML object>"
      ]
     },
     "execution_count": 21,
     "metadata": {},
     "output_type": "execute_result"
    }
   ],
   "source": [
    "from IPython.display import HTML\n",
    "\n",
    "image_url = \"https://d32le6a78ncrct.cloudfront.net/image/Picture1.png\"\n",
    "link_url = \"https://console.aws.amazon.com/cloudformation/home?region=us-east-1#/stacks/create/template?stackName=adminconsoleathena&templateURL=https://admin-console-cfn-dataprepare-code.s3.us-east-1.amazonaws.com/cfn/admin-console-athena-tables-2025.template\"\n",
    "\n",
    "HTML(f'<a href=\"{link_url}\" target=\"_blank\"><img src=\"{image_url}\" width=\"300\"/></a>')"
   ]
  },
  {
   "cell_type": "markdown",
   "id": "e9cb8d26",
   "metadata": {},
   "source": [
    "After a successful deployment, you have a database called `admin-console-2025` created in AwsDataCatalog in Athena and five tables in the database: `cloudtrail_logs_pp`, `group_membership`, `object_access`, `datasets_info` and `data_dict`.  \n",
    "* Confirm the tables via the Athena console."
   ]
  },
  {
   "cell_type": "markdown",
   "id": "019e8c5e",
   "metadata": {},
   "source": [
    "For instructions on building an Athena table with CloudTrail events, see [Amazon QuickSight Now Supports Audit Logging with AWS CloudTrail](https://aws.amazon.com/blogs/big-data/amazon-quicksight-now-supports-audit-logging-with-cloudtrail/)"
   ]
  },
  {
   "cell_type": "markdown",
   "id": "a195c854",
   "metadata": {},
   "source": [
    "* After all five tables are created in Athena, go to the security permissions on the QuickSight console to enable bucket access for s3://admin-console[AWS-account-ID] and s3://cloudtrail-awslogs-[aws-account-id]-do-not-delete (or the appropriate S3 bucket if you used a different name).\n",
    "* Go to Lakeformation to grant the database and table access to QuickSight service role and the admin console execution role\n",
    "* Enable Athena access under Security & Permissions.<br>\n",
    "Now QuickSight can access all five tables through Athena."
   ]
  },
  {
   "cell_type": "markdown",
   "id": "b6b221b1",
   "metadata": {},
   "source": [
    "### CloudFormation template for QuickSight objects"
   ]
  },
  {
   "cell_type": "markdown",
   "id": "faea0efe",
   "metadata": {},
   "source": [
    "To create the QuickSight objects, complete the following steps:\n",
    "\n",
    "* Get the QuickSight admin user’s ARN by running following command in the AWS Command Line Interface (AWS CLI):\n",
    "`aws quicksight describe-user --aws-account-id [aws-account-id] --namespace default --user-name [admin-user-name]` \n",
    "\n",
    "For example: arn:aws:quicksight:us-east-1:12345678910:user/default/admin/xyz.  "
   ]
  },
  {
   "cell_type": "code",
   "execution_count": 26,
   "id": "fdf5edab",
   "metadata": {
    "jupyter": {
     "source_hidden": true
    }
   },
   "outputs": [
    {
     "data": {
      "text/plain": [
       "'arn:aws:quicksight:us-east-1:499080683179:user/default/admin/wangzyn-Isengard'"
      ]
     },
     "execution_count": 26,
     "metadata": {},
     "output_type": "execute_result"
    }
   ],
   "source": [
    "import json\n",
    "import boto3\n",
    "import logging\n",
    "import csv\n",
    "import io\n",
    "import os\n",
    "import tempfile\n",
    "from typing import Any, Callable, Dict, List, Optional, Union\n",
    "import sys\n",
    "import botocore\n",
    "\n",
    "#start-Initial set up for the sdk env#\n",
    "def default_botocore_config() -> botocore.config.Config:\n",
    "    \"\"\"Botocore configuration.\"\"\"\n",
    "    retries_config: Dict[str, Union[str, int]] = {\n",
    "        \"max_attempts\": int(os.getenv(\"AWS_MAX_ATTEMPTS\", \"5\")),\n",
    "    }\n",
    "    mode: Optional[str] = os.getenv(\"AWS_RETRY_MODE\")\n",
    "    if mode:\n",
    "        retries_config[\"mode\"] = mode\n",
    "    return botocore.config.Config(\n",
    "        retries=retries_config,\n",
    "        connect_timeout=10,\n",
    "        max_pool_connections=10,\n",
    "        user_agent_extra=f\"qs_sdk_admin_console\",\n",
    "    )\n",
    "sts_client = boto3.client(\"sts\", config=default_botocore_config())\n",
    "account_id = sts_client.get_caller_identity()[\"Account\"]\n",
    "aws_region = 'us-east-1'\n",
    "qs_client = boto3.client('quicksight', region_name=aws_region, config=default_botocore_config())\n",
    "\n",
    "\n",
    "arn = qs_client.describe_user(\n",
    "    UserName='admin/wangzyn-Isengard',\n",
    "    AwsAccountId=account_id,\n",
    "    Namespace='default'\n",
    ")\n",
    "\n",
    "arn = arn['User']['Arn']\n",
    "arn"
   ]
  },
  {
   "cell_type": "markdown",
   "id": "192f7f41",
   "metadata": {},
   "source": [
    "### Choose the below Launch Stack to create the QuickSight objects."
   ]
  },
  {
   "cell_type": "code",
   "execution_count": 28,
   "id": "8bbf440d",
   "metadata": {
    "jupyter": {
     "source_hidden": true
    }
   },
   "outputs": [
    {
     "data": {
      "text/html": [
       "<a href=\"https://console.aws.amazon.com/cloudformation/home?region=us-east-1#/stacks/create/template?stackName=admin-console-qs-objects-2025&templateURL=https://admin-console-cfn-dataprepare-code.s3.us-east-1.amazonaws.com/cfn/admin-console-qs-analysis-template-2025.template\" target=\"_blank\"><img src=\"https://d32le6a78ncrct.cloudfront.net/image/Picture1.png\" width=\"300\"/></a>"
      ],
      "text/plain": [
       "<IPython.core.display.HTML object>"
      ]
     },
     "execution_count": 28,
     "metadata": {},
     "output_type": "execute_result"
    }
   ],
   "source": [
    "from IPython.display import HTML\n",
    "\n",
    "image_url = \"https://d32le6a78ncrct.cloudfront.net/image/Picture1.png\"\n",
    "link_url = \"https://console.aws.amazon.com/cloudformation/home?region=us-east-1#/stacks/create/template?stackName=admin-console-qs-objects-2025&templateURL=https://admin-console-cfn-dataprepare-code.s3.us-east-1.amazonaws.com/cfn/admin-console-qs-analysis-template-2025.template\"\n",
    "\n",
    "HTML(f'<a href=\"{link_url}\" target=\"_blank\"><img src=\"{image_url}\" width=\"300\"/></a>')"
   ]
  },
  {
   "cell_type": "markdown",
   "id": "ceb20fcb",
   "metadata": {},
   "source": [
    "**Set the CFN execution role to be arn:aws:iam::[accountId]:role/QuickSightAdminConsole2025**"
   ]
  },
  {
   "cell_type": "markdown",
   "id": "efd47915",
   "metadata": {},
   "source": [
    "## Below this line are some sample code. Please ignore them. "
   ]
  },
  {
   "cell_type": "markdown",
   "id": "34719b33",
   "metadata": {
    "jupyter": {
     "source_hidden": true
    }
   },
   "source": [
    "**Give the role quicksight-admin-console-2025 the trust policy:**\n",
    "\n",
    "{  \n",
    "\n",
    "    \"Version\": \"2012-10-17\",\n",
    "    \"Statement\": [\n",
    "        {\n",
    "            \"Effect\": \"Allow\",\n",
    "            \"Principal\": {\n",
    "                \"Service\": [\n",
    "                    \"glue.amazonaws.com\",\n",
    "                    \"cloudformation.amazonaws.com\"\n",
    "                ]\n",
    "            },\n",
    "            \"Action\": \"sts:AssumeRole\"\n",
    "        }\n",
    "    ]\n",
    "}\n"
   ]
  },
  {
   "cell_type": "code",
   "execution_count": 2,
   "id": "31ec6a21",
   "metadata": {},
   "outputs": [],
   "source": [
    "import json\n",
    "import boto3\n",
    "import logging\n",
    "import csv\n",
    "import io\n",
    "import os\n",
    "import tempfile\n",
    "from typing import Any, Callable, Dict, List, Optional, Union\n",
    "import sys\n",
    "import botocore\n",
    "\n",
    "#start-Initial set up for the sdk env#\n",
    "def default_botocore_config() -> botocore.config.Config:\n",
    "    \"\"\"Botocore configuration.\"\"\"\n",
    "    retries_config: Dict[str, Union[str, int]] = {\n",
    "        \"max_attempts\": int(os.getenv(\"AWS_MAX_ATTEMPTS\", \"5\")),\n",
    "    }\n",
    "    mode: Optional[str] = os.getenv(\"AWS_RETRY_MODE\")\n",
    "    if mode:\n",
    "        retries_config[\"mode\"] = mode\n",
    "    return botocore.config.Config(\n",
    "        retries=retries_config,\n",
    "        connect_timeout=10,\n",
    "        max_pool_connections=10,\n",
    "        user_agent_extra=f\"qs_sdk_admin_console\",\n",
    "    )\n",
    "sts_client = boto3.client(\"sts\", config=default_botocore_config())\n",
    "account_id = sts_client.get_caller_identity()[\"Account\"]\n",
    "aws_region = 'us-east-1'\n",
    "#qs_client = boto3.client('quicksight', region_name=aws_region, config=default_botocore_config())\n",
    "qs_client = boto3.client('quicksight')\n"
   ]
  },
  {
   "cell_type": "code",
   "execution_count": 6,
   "id": "3ca5d454",
   "metadata": {
    "collapsed": true,
    "jupyter": {
     "outputs_hidden": true,
     "source_hidden": true
    }
   },
   "outputs": [
    {
     "data": {
      "application/json": {
       "Arn": "arn:aws:quicksight:us-east-1:499080683179:template/admin-console-analysis-template-public-2025",
       "CreationStatus": "CREATION_IN_PROGRESS",
       "RequestId": "4b630da8-d46f-4944-bdbe-77d114c9ab8b",
       "ResponseMetadata": {
        "HTTPHeaders": {
         "connection": "keep-alive",
         "content-length": "374",
         "content-type": "application/json",
         "date": "Mon, 19 May 2025 22:22:44 GMT",
         "x-amzn-requestid": "4b630da8-d46f-4944-bdbe-77d114c9ab8b"
        },
        "HTTPStatusCode": 202,
        "RequestId": "4b630da8-d46f-4944-bdbe-77d114c9ab8b",
        "RetryAttempts": 0
       },
       "Status": 202,
       "TemplateId": "admin-console-analysis-template-public-2025",
       "VersionArn": "arn:aws:quicksight:us-east-1:499080683179:template/admin-console-analysis-template-public-2025/version/2"
      },
      "text/plain": [
       "<IPython.core.display.JSON object>"
      ]
     },
     "execution_count": 6,
     "metadata": {
      "application/json": {
       "expanded": false,
       "root": "root"
      }
     },
     "output_type": "execute_result"
    }
   ],
   "source": [
    "permissions=qs_client.update_template(\n",
    "    AwsAccountId=account_id,\n",
    "    TemplateId='admin-console-analysis-template-public-2025',\n",
    "    Name='admin-console-analysis-template-public-2025',\n",
    "    SourceEntity={\n",
    "        'SourceAnalysis': {\n",
    "            'Arn': 'arn:aws:quicksight:us-east-1:499080683179:analysis/admin-console-analysis-2025499080683179',\n",
    "            'DataSetReferences': [\n",
    "\t\t\t\t\t\t\t{\n",
    "\t\t\t\t\t\t\t\t'DataSetArn':'arn:aws:quicksight:us-east-1:499080683179:dataset/Admin-Console-Group-Membership-2025'\n",
    "\t\t\t\t\t\t\t\t,\n",
    "\t\t\t\t\t\t\t\t\"DataSetPlaceholder\": \"Admin-Console-Group-Membership\"\n",
    "\t\t\t\t\t\t\t},\n",
    "\t\t\t\t\t\t\t{\n",
    "\t\t\t\t\t\t\t\t'DataSetArn':\n",
    "\t\t\t\t\t\t\t\t\t'arn:aws:quicksight:us-east-1:499080683179:dataset/Admin-Console-CFN-Main-2025'\n",
    "\t\t\t\t\t\t\t\t,\n",
    "\t\t\t\t\t\t\t\t'DataSetPlaceholder': \"Admin-Console-CFN-Main\"\n",
    "\t\t\t\t\t\t\t},\n",
    "\t\t\t\t\t\t\t{\n",
    "\t\t\t\t\t\t\t\t'DataSetArn':'arn:aws:quicksight:us-east-1:499080683179:dataset/Admin-Console-Object-Access-2025',\n",
    "\t\t\t\t\t\t\t\t\n",
    "\t\t\t\t\t\t\t\t'DataSetPlaceholder': \"Admin-Console-Object-Access\"\n",
    "\t\t\t\t\t\t\t},\n",
    "\t\t\t\t\t\t\t{\n",
    "\t\t\t\t\t\t\t\t'DataSetArn':\n",
    "\t\t\t\t\t\t\t\t\t'arn:aws:quicksight:us-east-1:499080683179:dataset/Admin-Console-dataset-info-2025',\n",
    "\t\t\t\t\t\t\t\t\n",
    "\t\t\t\t\t\t\t\t'DataSetPlaceholder': \"Admin-Console-dataset-info\"\n",
    "\t\t\t\t\t\t\t}\n",
    "\t\t\t\t\t\t]\n",
    "            \n",
    "        }\n",
    "    },\n",
    "    VersionDescription='Updated version'\n",
    "    \n",
    ")\n",
    "from IPython.display import JSON\n",
    "\n",
    "JSON(permissions)\n",
    "\n"
   ]
  },
  {
   "cell_type": "code",
   "execution_count": 11,
   "id": "f65bc6a0",
   "metadata": {
    "jupyter": {
     "source_hidden": true
    }
   },
   "outputs": [],
   "source": [
    "\n",
    "from IPython.display import IFrame, display\n",
    "from IPython.core.display import HTML \n",
    "\n",
    "def show_webpage(url, width=900, height=500):\n",
    "    \"\"\"\n",
    "    Renders a webpage in an IFrame within a Jupyter Notebook.\n",
    "\n",
    "    Args:\n",
    "        url (str): The URL of the webpage to display.\n",
    "        width (int, optional): The width of the IFrame. Defaults to 900 pixels.\n",
    "        height (int, optional): The height of the IFrame. Defaults to 500 pixels.\n",
    "    \"\"\"\n",
    "    iframe = IFrame(url, width=width, height=height)\n",
    "    display(iframe)"
   ]
  }
 ],
 "metadata": {
  "kernelspec": {
   "display_name": "conda_python3",
   "language": "python",
   "name": "conda_python3"
  },
  "language_info": {
   "codemirror_mode": {
    "name": "ipython",
    "version": 3
   },
   "file_extension": ".py",
   "mimetype": "text/x-python",
   "name": "python",
   "nbconvert_exporter": "python",
   "pygments_lexer": "ipython3",
   "version": "3.8.12"
  }
 },
 "nbformat": 4,
 "nbformat_minor": 5
}

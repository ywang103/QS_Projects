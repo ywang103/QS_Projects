{
 "cells": [
  {
   "cell_type": "markdown",
   "id": "c5ea03cb",
   "metadata": {},
   "source": [
    "# BIOPS QS JSON Option Use Case 1: Move one dashboard to another account with assets as bundle API #\n",
    "Author: Ying Wang, Sr. SA in Gen AI, QuickSight\n",
    "\n",
    "Created Time: June 2025"
   ]
  },
  {
   "cell_type": "markdown",
   "id": "2a0fbc17",
   "metadata": {},
   "source": [
    "## Update pip and boto3"
   ]
  },
  {
   "cell_type": "code",
   "execution_count": null,
   "id": "dfc49781",
   "metadata": {},
   "outputs": [],
   "source": [
    "!pip install --upgrade pip\n",
    "!pip install --upgrade boto3\n",
    "get_ipython().system('pip install --upgrade ipynb')"
   ]
  },
  {
   "cell_type": "markdown",
   "id": "ad7203a2",
   "metadata": {},
   "source": [
    "## Only run it one time!!!\n",
    "\n",
    "The cell below is to update the bucket policy to allow cross-accounts access: let the targe account to copy the assets in source account.\n",
    "Please update the template path if you have a new assets bundle to be imported into the target account"
   ]
  },
  {
   "cell_type": "code",
   "execution_count": null,
   "id": "26cec0c7",
   "metadata": {},
   "outputs": [],
   "source": [
    "import boto3\n",
    "import json\n",
    "from botocore.exceptions import ClientError\n",
    "\n",
    "# === Configuration ===\n",
    "bucket_name = \"biops-version-control-demo-2025\"\n",
    "source_account_id = \"\"  # Replace with the AWS Account ID to allow\n",
    "target_account_id = \"\"\n",
    "#template_path = \"\"  # S3 object key (or prefix)\n",
    "\n",
    "# === Initialize S3 client ===\n",
    "s3 = boto3.client(\"s3\")\n",
    "\n",
    "# === Define the new policy statement ===\n",
    "new_statement1 = {\n",
    "    \"Sid\": \"AllowAccountAToAccessTemplate\",\n",
    "    \"Effect\": \"Allow\",\n",
    "    \"Principal\": {\n",
    "        \"AWS\": f\"arn:aws:iam::{target_account_id}:root\"\n",
    "    },\n",
    "    \"Action\": \"s3:*\",\n",
    "      \"Resource\": [\n",
    "        f\"arn:aws:s3:::{bucket_name}\",\n",
    "        f\"arn:aws:s3:::{bucket_name}/*\"\n",
    "      ]\n",
    "}\n",
    "\n",
    "new_statement2 = {\n",
    "      \"Sid\": \"AllowCloudFormationAccess\",\n",
    "      \"Effect\": \"Allow\",\n",
    "      \"Principal\": {\n",
    "        \"AWS\": f\"arn:aws:iam::{target_account_id}:role/QuickSightAdminConsole2025\"\n",
    "      },\n",
    "      \"Action\": \"s3:GetObject\",\n",
    "      \"Resource\": f\"arn:aws:s3:::{bucket_name}/*\"\n",
    "    }\n",
    "\n",
    "\n",
    "# Try to get the existing policy, or create a new one\n",
    "try:\n",
    "    response = s3.get_bucket_policy(Bucket=bucket_name)\n",
    "    policy = json.loads(response['Policy'])\n",
    "except s3.exceptions.NoSuchBucketPolicy:\n",
    "    policy = {\n",
    "        \"Version\": \"2012-10-17\",\n",
    "        \"Statement\": []\n",
    "    }\n",
    "\n",
    "# Always append the new statement (no duplicate check)\n",
    "policy[\"Statement\"].append(new_statement1)\n",
    "policy[\"Statement\"].append(new_statement2)\n",
    "\n",
    "# Update the policy\n",
    "updated_policy = json.dumps(policy)\n",
    "s3.put_bucket_policy(Bucket=bucket_name, Policy=updated_policy)\n",
    "print(\"Bucket policy updated successfully.\")"
   ]
  },
  {
   "cell_type": "markdown",
   "id": "6310beeb",
   "metadata": {},
   "source": [
    "## Configuration"
   ]
  },
  {
   "cell_type": "code",
   "execution_count": 87,
   "id": "74c5be9b",
   "metadata": {},
   "outputs": [],
   "source": [
    "import json\n",
    "import boto3\n",
    "import logging\n",
    "import csv\n",
    "import io\n",
    "import os\n",
    "import tempfile\n",
    "from typing import Any, Callable, Dict, List, Optional, Union\n",
    "import sys\n",
    "import botocore\n",
    "import pandas as pd\n",
    "from datetime import datetime\n",
    "import requests"
   ]
  },
  {
   "cell_type": "code",
   "execution_count": 2,
   "id": "5455e9e9",
   "metadata": {},
   "outputs": [],
   "source": [
    "#start-Initial set up for the sdk env#\n",
    "def default_botocore_config() -> botocore.config.Config:\n",
    "    \"\"\"Botocore configuration.\"\"\"\n",
    "    retries_config: Dict[str, Union[str, int]] = {\n",
    "        \"max_attempts\": int(os.getenv(\"AWS_MAX_ATTEMPTS\", \"5\")),\n",
    "    }\n",
    "    mode: Optional[str] = os.getenv(\"AWS_RETRY_MODE\")\n",
    "    if mode:\n",
    "        retries_config[\"mode\"] = mode\n",
    "    return botocore.config.Config(\n",
    "        retries=retries_config,\n",
    "        connect_timeout=10,\n",
    "        max_pool_connections=10,\n",
    "        user_agent_extra=f\"qs_sdk_biops\",\n",
    "    )"
   ]
  },
  {
   "cell_type": "code",
   "execution_count": 10,
   "id": "96f1774d",
   "metadata": {},
   "outputs": [],
   "source": [
    "def _assume_role(aws_account_number, role_name, aws_region):\n",
    "    sts_client = boto3.client('sts', config=default_botocore_config())\n",
    "    response = sts_client.assume_role(\n",
    "        RoleArn='arn:aws:iam::' + aws_account_number + ':role/' + role_name,\n",
    "        RoleSessionName='quicksight'\n",
    "    )\n",
    "    # Storing STS credentials\n",
    "    session = boto3.Session(\n",
    "        aws_access_key_id=response['Credentials']['AccessKeyId'],\n",
    "        aws_secret_access_key=response['Credentials']['SecretAccessKey'],\n",
    "        aws_session_token=response['Credentials']['SessionToken'],\n",
    "        region_name=aws_region\n",
    "    )\n",
    "\n",
    "    #logger.info(\"Assumed session for \" + aws_account_number + \" in region \" + aws_region + \".\")\n",
    "\n",
    "    return session"
   ]
  },
  {
   "cell_type": "code",
   "execution_count": 69,
   "id": "775dce96",
   "metadata": {},
   "outputs": [],
   "source": [
    "def get_user_arn (session, username, region='us-east-1', namespace='default'): \n",
    "    sts_client = session.client(\"sts\")\n",
    "    account_id = sts_client.get_caller_identity()[\"Account\"]\n",
    "    if username=='root':\n",
    "        arn='arn:aws:iam::'+account_id+':'+username\n",
    "    else:\n",
    "        arn=\"arn:aws:quicksight:\"+region+\":\"+account_id+\":user/\"+namespace+\"/\"+username\n",
    "    \n",
    "    return arn"
   ]
  },
  {
   "cell_type": "markdown",
   "id": "5dd46b50",
   "metadata": {},
   "source": [
    "### Assume Role\n",
    "\n",
    "You can assume an IAM role and create session based on the role permissions"
   ]
  },
  {
   "cell_type": "code",
   "execution_count": null,
   "id": "bcfe995a",
   "metadata": {},
   "outputs": [],
   "source": [
    "configuration = pd.read_csv(\"configuration.txt\", sep=\",\")\n",
    "configuration.head"
   ]
  },
  {
   "cell_type": "code",
   "execution_count": null,
   "id": "1fe887c3",
   "metadata": {},
   "outputs": [],
   "source": [
    "configuration = configuration.set_index('key').T\n",
    "configuration.head"
   ]
  },
  {
   "cell_type": "code",
   "execution_count": null,
   "id": "f0e6833d",
   "metadata": {},
   "outputs": [],
   "source": [
    "# this cell is for testing purpose\n",
    "value = str(configuration[\"source_asset\"].iloc[0])\n",
    "print(value)"
   ]
  },
  {
   "cell_type": "code",
   "execution_count": 64,
   "id": "6334bef9",
   "metadata": {},
   "outputs": [],
   "source": [
    "#source account\n",
    "sourceaccountid = str(configuration[\"source_account\"].iloc[0])\n",
    "source_role_name = str(configuration[\"source_role_name\"].iloc[0])\n",
    "source_admin_user = str(configuration[\"source_admin_user\"].iloc[0])\n",
    "aws_region='us-east-1'\n",
    "sourcesession = _assume_role(sourceaccountid, source_role_name, aws_region)"
   ]
  },
  {
   "cell_type": "code",
   "execution_count": 113,
   "id": "9dd6954f",
   "metadata": {},
   "outputs": [],
   "source": [
    "#target account\n",
    "targetaccountid = str(configuration[\"target_account\"].iloc[0])\n",
    "target_role_name = str(configuration[\"target_role_name\"].iloc[0])\n",
    "target_admin_user = str(configuration[\"target_admin_user\"].iloc[0])\n",
    "aws_region='us-east-1'\n",
    "targetsession = _assume_role(targetaccountid, target_role_name, aws_region)"
   ]
  },
  {
   "cell_type": "code",
   "execution_count": null,
   "id": "766a44de",
   "metadata": {},
   "outputs": [],
   "source": [
    "qs_client_source = sourcesession.client('quicksight')\n",
    "sts_client_source = sourcesession.client(\"sts\")\n",
    "source_account_id = sts_client_source.get_caller_identity()[\"Account\"]\n",
    "print(source_account_id)\n",
    "aws_region_source = qs_client_source.meta.region_name\n",
    "print(aws_region)"
   ]
  },
  {
   "cell_type": "code",
   "execution_count": null,
   "id": "7220c223",
   "metadata": {},
   "outputs": [],
   "source": [
    "qs_client_target = targetsession.client('quicksight')\n",
    "sts_client_target = targetsession.client(\"sts\")\n",
    "target_account_id = sts_client_target.get_caller_identity()[\"Account\"]\n",
    "print(target_account_id)\n",
    "aws_region_target = qs_client_target.meta.region_name\n",
    "print(aws_region)"
   ]
  },
  {
   "cell_type": "code",
   "execution_count": 115,
   "id": "ab4af47b",
   "metadata": {},
   "outputs": [],
   "source": [
    "sourceroot=get_user_arn (sourcesession, 'root')\n",
    "sourceadmin=get_user_arn (sourcesession, source_admin_user)\n",
    "\n",
    "\n",
    "targetroot=get_user_arn (targetsession, 'root')\n",
    "targetadmin=get_user_arn (targetsession, target_admin_user)"
   ]
  },
  {
   "cell_type": "markdown",
   "id": "f542194a",
   "metadata": {},
   "source": [
    "## Export the assets bundle from source account ##"
   ]
  },
  {
   "cell_type": "code",
   "execution_count": null,
   "id": "a08c7f9c",
   "metadata": {},
   "outputs": [],
   "source": [
    "# Get current local time\n",
    "current_time = datetime.now().date()\n",
    "\n",
    "source_asset = str(configuration[\"source_asset\"].iloc[0])\n",
    "jobId = source_asset + '_' + source_account_id + '_' + str(current_time)\n",
    "response = qs_client_source.start_asset_bundle_export_job(\n",
    "    AwsAccountId=source_account_id,\n",
    "    AssetBundleExportJobId=jobId,\n",
    "    ResourceArns=[\n",
    "        f\"arn:aws:quicksight:us-east-1:{source_account_id}:dashboard/{source_asset}\",\n",
    "    ],\n",
    "    IncludeAllDependencies=True,\n",
    "    IncludePermissions=False,\n",
    "    ExportFormat='QUICKSIGHT_JSON')\n",
    "\n",
    "\n",
    "from IPython.display import JSON\n",
    "JSON(response)"
   ]
  },
  {
   "cell_type": "code",
   "execution_count": 100,
   "id": "ee953dfb",
   "metadata": {},
   "outputs": [
    {
     "data": {
      "application/json": {
       "Arn": "arn:aws:quicksight:us-east-1:889399602426:asset-bundle-export-job/d41a3c00-e581-4ec2-969c-4778562bedd3_889399602426_2025-06-20",
       "AssetBundleExportJobId": "d41a3c00-e581-4ec2-969c-4778562bedd3_889399602426_2025-06-20",
       "AwsAccountId": "889399602426",
       "CreatedTime": "2025-06-20T22:03:47Z",
       "ExportFormat": "QUICKSIGHT_JSON",
       "IncludeAllDependencies": true,
       "IncludeFolderMembers": "NONE",
       "IncludeFolderMemberships": false,
       "IncludePermissions": false,
       "IncludeTags": false,
       "JobStatus": "IN_PROGRESS",
       "RequestId": "b9ff8d20-105c-40b9-8834-68e42ea8315e",
       "ResourceArns": [
        "arn:aws:quicksight:us-east-1:889399602426:dashboard/d41a3c00-e581-4ec2-969c-4778562bedd3"
       ],
       "ResponseMetadata": {
        "HTTPHeaders": {
         "connection": "keep-alive",
         "content-length": "807",
         "content-type": "application/json",
         "date": "Fri, 20 Jun 2025 22:03:48 GMT",
         "strict-transport-security": "max-age=31536000; includeSubdomains; preload",
         "x-amzn-requestid": "b9ff8d20-105c-40b9-8834-68e42ea8315e"
        },
        "HTTPStatusCode": 200,
        "RequestId": "b9ff8d20-105c-40b9-8834-68e42ea8315e",
        "RetryAttempts": 0
       },
       "Status": 200
      },
      "text/plain": [
       "<IPython.core.display.JSON object>"
      ]
     },
     "execution_count": 100,
     "metadata": {
      "application/json": {
       "expanded": false,
       "root": "root"
      }
     },
     "output_type": "execute_result"
    }
   ],
   "source": [
    "\n",
    "response = qs_client_source.describe_asset_bundle_export_job(\n",
    "    AwsAccountId=source_account_id,\n",
    "    AssetBundleExportJobId=jobId\n",
    ")\n",
    "\n",
    "\n",
    "\n",
    "from IPython.display import JSON\n",
    "JSON(response)"
   ]
  },
  {
   "cell_type": "code",
   "execution_count": 101,
   "id": "08632baa",
   "metadata": {},
   "outputs": [],
   "source": [
    "import time\n",
    "def WaitForExportToComplete(jobId):\n",
    "    while True:\n",
    "        response = qs_client_source.describe_asset_bundle_export_job(\n",
    "                    AwsAccountId=source_account_id,\n",
    "                    AssetBundleExportJobId=jobId\n",
    "                    )\n",
    "        \n",
    "        job_status = response['JobStatus']\n",
    "        if job_status in ['SUCCESSFUL', 'FAILED']:\n",
    "            print(f\"Job finished with status: {job_status}\")\n",
    "            return response\n",
    "        else:\n",
    "            print(f\"Job still running. Current status: {job_status}. Retrying in 10 seconds...\")\n",
    "            time.sleep(10)"
   ]
  },
  {
   "cell_type": "code",
   "execution_count": 102,
   "id": "a4f1f64b",
   "metadata": {},
   "outputs": [
    {
     "name": "stdout",
     "output_type": "stream",
     "text": [
      "Job still running. Current status: IN_PROGRESS. Retrying in 10 seconds...\n",
      "Job finished with status: SUCCESSFUL\n"
     ]
    }
   ],
   "source": [
    "response=WaitForExportToComplete(jobId)"
   ]
  },
  {
   "cell_type": "code",
   "execution_count": 103,
   "id": "8c6ef8e6",
   "metadata": {},
   "outputs": [
    {
     "name": "stdout",
     "output_type": "stream",
     "text": [
      "File uploaded to s3://biops-version-control-demo-2025/QUICKSIGHT_JSON_d41a3c00-e581-4ec2-969c-4778562bedd3_889399602426_2025-06-20/QUICKSIGHT_JSON_d41a3c00-e581-4ec2-969c-4778562bedd3_889399602426_2025-06-20.zip\n"
     ]
    }
   ],
   "source": [
    "# === Configuration ===\n",
    "url = response['DownloadUrl']\n",
    "local_path = response['ExportFormat'] + '_' + response['AssetBundleExportJobId']\n",
    "local_file_name = local_path + '.zip'\n",
    "bucket_name = \"biops-version-control-demo-2025\"\n",
    "s3_key = local_path + '/' + local_file_name\n",
    "\n",
    "# === Step 1: Download file from URL ===\n",
    "response = requests.get(url)\n",
    "if response.status_code == 200:\n",
    "    with open(local_file_name, \"wb\") as f:\n",
    "        f.write(response.content)\n",
    "else:\n",
    "    raise Exception(f\"Failed to download file. Status code: {response.status_code}\")\n",
    "\n",
    "# === Step 2: Upload file to S3 ===\n",
    "s3 = targetsession.client('s3')\n",
    "s3.upload_file(local_file_name, bucket_name, s3_key)\n",
    "\n",
    "print(f\"File uploaded to s3://{bucket_name}/{s3_key}\")\n",
    "\n"
   ]
  },
  {
   "cell_type": "code",
   "execution_count": 104,
   "id": "1eb927fc",
   "metadata": {},
   "outputs": [
    {
     "name": "stdout",
     "output_type": "stream",
     "text": [
      "s3://biops-version-control-demo-2025/QUICKSIGHT_JSON_d41a3c00-e581-4ec2-969c-4778562bedd3_889399602426_2025-06-20/QUICKSIGHT_JSON_d41a3c00-e581-4ec2-969c-4778562bedd3_889399602426_2025-06-20.zip\n"
     ]
    }
   ],
   "source": [
    "s3path = f\"{bucket_name}/{s3_key}\"\n",
    "s3url = f\"https://{bucket_name}.s3.us-east-1.amazonaws.com/{s3_key}\"\n",
    "s3uri = f\"s3://{bucket_name}/{s3_key}\"\n",
    "print(s3uri)"
   ]
  },
  {
   "cell_type": "markdown",
   "id": "0d1a88df",
   "metadata": {},
   "source": [
    "## Import the assets bundle into target account ##"
   ]
  },
  {
   "cell_type": "code",
   "execution_count": 105,
   "id": "9fba1104",
   "metadata": {},
   "outputs": [
    {
     "data": {
      "application/json": {
       "Arn": "arn:aws:quicksight:us-east-1:499080683179:asset-bundle-import-job/d41a3c00-e581-4ec2-969c-4778562bedd3_499080683179_2025-06-20",
       "AssetBundleImportJobId": "d41a3c00-e581-4ec2-969c-4778562bedd3_499080683179_2025-06-20",
       "RequestId": "9fe253ec-9d54-4ab3-bd34-c5f497a082f0",
       "ResponseMetadata": {
        "HTTPHeaders": {
         "connection": "keep-alive",
         "content-length": "275",
         "content-type": "application/json",
         "date": "Fri, 20 Jun 2025 22:06:36 GMT",
         "strict-transport-security": "max-age=31536000; includeSubdomains; preload",
         "x-amzn-requestid": "9fe253ec-9d54-4ab3-bd34-c5f497a082f0"
        },
        "HTTPStatusCode": 202,
        "RequestId": "9fe253ec-9d54-4ab3-bd34-c5f497a082f0",
        "RetryAttempts": 0
       },
       "Status": 202
      },
      "text/plain": [
       "<IPython.core.display.JSON object>"
      ]
     },
     "execution_count": 105,
     "metadata": {
      "application/json": {
       "expanded": false,
       "root": "root"
      }
     },
     "output_type": "execute_result"
    }
   ],
   "source": [
    "importjobid = source_asset + '_' + target_account_id + '_' + str(current_time)\n",
    "response = qs_client_target.start_asset_bundle_import_job(\n",
    "    AwsAccountId=target_account_id,\n",
    "    AssetBundleImportJobId=importjobid,\n",
    "    AssetBundleImportSource={\n",
    "        'S3Uri': s3uri\n",
    "    },\n",
    "    FailureAction='ROLLBACK'\n",
    ")\n",
    "\n",
    "from IPython.display import JSON\n",
    "JSON(response)"
   ]
  },
  {
   "cell_type": "code",
   "execution_count": 106,
   "id": "f66297dd",
   "metadata": {},
   "outputs": [
    {
     "data": {
      "application/json": {
       "Arn": "arn:aws:quicksight:us-east-1:499080683179:asset-bundle-import-job/d41a3c00-e581-4ec2-969c-4778562bedd3_499080683179_2025-06-20",
       "AssetBundleImportJobId": "d41a3c00-e581-4ec2-969c-4778562bedd3_499080683179_2025-06-20",
       "AssetBundleImportSource": {
        "S3Uri": "s3://biops-version-control-demo-2025/QUICKSIGHT_JSON_d41a3c00-e581-4ec2-969c-4778562bedd3_889399602426_2025-06-20/QUICKSIGHT_JSON_d41a3c00-e581-4ec2-969c-4778562bedd3_889399602426_2025-06-20.zip"
       },
       "AwsAccountId": "499080683179",
       "CreatedTime": "2025-06-20T22:06:36Z",
       "FailureAction": "ROLLBACK",
       "JobStatus": "QUEUED_FOR_IMMEDIATE_EXECUTION",
       "RequestId": "2ea6e9f3-73b1-45cd-9152-fef52f56e699",
       "ResponseMetadata": {
        "HTTPHeaders": {
         "connection": "keep-alive",
         "content-length": "830",
         "content-type": "application/json",
         "date": "Fri, 20 Jun 2025 22:06:39 GMT",
         "strict-transport-security": "max-age=31536000; includeSubdomains; preload",
         "x-amzn-requestid": "2ea6e9f3-73b1-45cd-9152-fef52f56e699"
        },
        "HTTPStatusCode": 200,
        "RequestId": "2ea6e9f3-73b1-45cd-9152-fef52f56e699",
        "RetryAttempts": 0
       },
       "Status": 200
      },
      "text/plain": [
       "<IPython.core.display.JSON object>"
      ]
     },
     "execution_count": 106,
     "metadata": {
      "application/json": {
       "expanded": false,
       "root": "root"
      }
     },
     "output_type": "execute_result"
    }
   ],
   "source": [
    "response = qs_client_target.describe_asset_bundle_import_job(\n",
    "    AwsAccountId=target_account_id,\n",
    "    AssetBundleImportJobId=importjobid\n",
    ")\n",
    "\n",
    "\n",
    "\n",
    "from IPython.display import JSON\n",
    "JSON(response)"
   ]
  },
  {
   "cell_type": "code",
   "execution_count": 107,
   "id": "77809bb1",
   "metadata": {},
   "outputs": [],
   "source": [
    "import time\n",
    "def WaitForImportToComplete(jobId):\n",
    "    while True:\n",
    "        response = qs_client_target.describe_asset_bundle_import_job(\n",
    "                    AwsAccountId=target_account_id,\n",
    "                    AssetBundleImportJobId=importjobid\n",
    "                    )\n",
    "        \n",
    "        job_status = response['JobStatus']\n",
    "        if job_status in ['SUCCESSFUL', 'FAILED', 'FAILED_ROLLBACK_COMPLETED']:\n",
    "            print(f\"Job finished with status: {job_status}\")\n",
    "            return response\n",
    "        else:\n",
    "            print(f\"Job still running. Current status: {job_status}. Retrying in 10 seconds...\")\n",
    "            time.sleep(10)"
   ]
  },
  {
   "cell_type": "code",
   "execution_count": 108,
   "id": "f8bb732b",
   "metadata": {},
   "outputs": [
    {
     "name": "stdout",
     "output_type": "stream",
     "text": [
      "Job still running. Current status: IN_PROGRESS. Retrying in 10 seconds...\n",
      "Job finished with status: SUCCESSFUL\n"
     ]
    }
   ],
   "source": [
    "response=WaitForImportToComplete(importjobid)"
   ]
  },
  {
   "cell_type": "code",
   "execution_count": 120,
   "id": "a0265864",
   "metadata": {},
   "outputs": [
    {
     "data": {
      "application/json": {
       "DashboardSummaryList": [
        {
         "Arn": "arn:aws:quicksight:us-east-1:499080683179:dashboard/d41a3c00-e581-4ec2-969c-4778562bedd3",
         "CreatedTime": "2025-06-20T22:06:46.184000Z",
         "DashboardId": "d41a3c00-e581-4ec2-969c-4778562bedd3",
         "LastPublishedTime": "2025-06-20T22:06:48.054000Z",
         "LastUpdatedTime": "2025-06-20T22:06:46.388000Z",
         "Name": "BIOpsDemo",
         "PublishedVersionNumber": 1
        },
        {
         "Arn": "arn:aws:quicksight:us-east-1:499080683179:dashboard/eaee8171-784e-4c2f-a9b1-d87eed13fa1c",
         "CreatedTime": "2025-06-05T21:28:27.175000Z",
         "DashboardId": "eaee8171-784e-4c2f-a9b1-d87eed13fa1c",
         "LastPublishedTime": "2025-06-06T18:28:39.646000Z",
         "LastUpdatedTime": "2025-06-05T21:31:33.676000Z",
         "Name": "BIOpsDemo",
         "PublishedVersionNumber": 2
        },
        {
         "Arn": "arn:aws:quicksight:us-east-1:499080683179:dashboard/938b365e-c001-4723-9a27-029654da7532",
         "CreatedTime": "2020-12-14T19:55:43.749000Z",
         "DashboardId": "938b365e-c001-4723-9a27-029654da7532",
         "LastPublishedTime": "2020-12-14T19:55:43.749000Z",
         "LastUpdatedTime": "2020-12-14T20:11:33.989000Z",
         "Name": "biopsdemo_dashboard",
         "PublishedVersionNumber": 2
        }
       ],
       "RequestId": "7c28aacf-2bb4-4d51-a38d-ca51a57b67d0",
       "ResponseMetadata": {
        "HTTPHeaders": {
         "connection": "keep-alive",
         "content-length": "1106",
         "content-type": "application/json",
         "date": "Fri, 20 Jun 2025 22:11:28 GMT",
         "strict-transport-security": "max-age=31536000; includeSubdomains; preload",
         "x-amzn-requestid": "7c28aacf-2bb4-4d51-a38d-ca51a57b67d0"
        },
        "HTTPStatusCode": 200,
        "RequestId": "7c28aacf-2bb4-4d51-a38d-ca51a57b67d0",
        "RetryAttempts": 0
       },
       "Status": 200
      },
      "text/plain": [
       "<IPython.core.display.JSON object>"
      ]
     },
     "execution_count": 120,
     "metadata": {
      "application/json": {
       "expanded": false,
       "root": "root"
      }
     },
     "output_type": "execute_result"
    }
   ],
   "source": [
    "response = qs_client_target.search_dashboards(\n",
    "    AwsAccountId=target_account_id,\n",
    "    Filters=[\n",
    "        {\n",
    "            'Operator': 'StringLike',\n",
    "            'Name': 'DASHBOARD_NAME',\n",
    "            'Value': 'BIOpsDemo'\n",
    "        },\n",
    "    ]\n",
    ")\n",
    "\n",
    "from IPython.display import JSON\n",
    "JSON(response)"
   ]
  },
  {
   "cell_type": "code",
   "execution_count": 121,
   "id": "09239901",
   "metadata": {},
   "outputs": [
    {
     "name": "stdout",
     "output_type": "stream",
     "text": [
      "arn:aws:quicksight:us-east-1:499080683179:user/default/admin/wangzyn-Isengard\n",
      "d41a3c00-e581-4ec2-969c-4778562bedd3\n"
     ]
    }
   ],
   "source": [
    "print(targetadmin)\n",
    "print(response['DashboardSummaryList'][0]['DashboardId'])\n",
    "target_asset = response['DashboardSummaryList'][0]['DashboardId']"
   ]
  },
  {
   "cell_type": "code",
   "execution_count": 116,
   "id": "62f3dc97",
   "metadata": {},
   "outputs": [
    {
     "name": "stdout",
     "output_type": "stream",
     "text": [
      "arn:aws:quicksight:us-east-1:499080683179:user/default/admin/wangzyn-Isengard\n",
      "d41a3c00-e581-4ec2-969c-4778562bedd3\n"
     ]
    },
    {
     "data": {
      "application/json": {
       "DashboardArn": "arn:aws:quicksight:us-east-1:499080683179:dashboard/d41a3c00-e581-4ec2-969c-4778562bedd3",
       "DashboardId": "d41a3c00-e581-4ec2-969c-4778562bedd3",
       "LinkSharingConfiguration": {
        "Permissions": []
       },
       "Permissions": [
        {
         "Actions": [
          "quicksight:DescribeDashboard",
          "quicksight:ListDashboardVersions",
          "quicksight:UpdateDashboardPermissions",
          "quicksight:QueryDashboard",
          "quicksight:UpdateDashboard",
          "quicksight:DeleteDashboard",
          "quicksight:DescribeDashboardPermissions",
          "quicksight:UpdateDashboardPublishedVersion"
         ],
         "Principal": "arn:aws:quicksight:us-east-1:499080683179:user/default/admin/wangzyn-Isengard"
        }
       ],
       "RequestId": "1226200c-b2e8-46a3-af28-b2b6521d4584",
       "ResponseMetadata": {
        "HTTPHeaders": {
         "connection": "keep-alive",
         "content-length": "674",
         "content-type": "application/json",
         "date": "Fri, 20 Jun 2025 22:09:22 GMT",
         "strict-transport-security": "max-age=31536000; includeSubdomains; preload",
         "x-amzn-requestid": "1226200c-b2e8-46a3-af28-b2b6521d4584"
        },
        "HTTPStatusCode": 200,
        "RequestId": "1226200c-b2e8-46a3-af28-b2b6521d4584",
        "RetryAttempts": 0
       },
       "Status": 200
      },
      "text/plain": [
       "<IPython.core.display.JSON object>"
      ]
     },
     "execution_count": 116,
     "metadata": {
      "application/json": {
       "expanded": false,
       "root": "root"
      }
     },
     "output_type": "execute_result"
    }
   ],
   "source": [
    "\n",
    "response = qs_client_target.update_dashboard_permissions(\n",
    "    AwsAccountId=target_account_id,\n",
    "    DashboardId=target_asset,\n",
    "    GrantPermissions=[\n",
    "        {\n",
    "            'Principal': targetadmin,\n",
    "            'Actions': [\n",
    "                \"quicksight:DescribeDashboard\",\n",
    "              \"quicksight:ListDashboardVersions\",\n",
    "              \"quicksight:UpdateDashboardPermissions\",\n",
    "              \"quicksight:QueryDashboard\",\n",
    "              \"quicksight:UpdateDashboard\",\n",
    "              \"quicksight:DeleteDashboard\",\n",
    "              \"quicksight:DescribeDashboardPermissions\",\n",
    "              \"quicksight:UpdateDashboardPublishedVersion\"\n",
    "            ]\n",
    "        }\n",
    "    ]\n",
    "    \n",
    ")\n",
    "\n",
    "from IPython.display import JSON\n",
    "JSON(response)"
   ]
  },
  {
   "cell_type": "code",
   "execution_count": 123,
   "id": "9bf530f8",
   "metadata": {},
   "outputs": [
    {
     "data": {
      "application/json": {
       "Dashboard": {
        "Arn": "arn:aws:quicksight:us-east-1:499080683179:dashboard/d41a3c00-e581-4ec2-969c-4778562bedd3",
        "CreatedTime": "2025-06-20T22:06:46.184000Z",
        "DashboardId": "d41a3c00-e581-4ec2-969c-4778562bedd3",
        "LastPublishedTime": "2025-06-20T22:06:48.054000Z",
        "LastUpdatedTime": "2025-06-20T22:06:46.388000Z",
        "LinkEntities": [
         "arn:aws:quicksight:us-east-1:499080683179:analysis/d8063aee-1f36-47e1-baf3-8fb6ce9fe1b5"
        ],
        "Name": "BIOpsDemo",
        "Version": {
         "CreatedTime": "2025-06-20T22:06:46.388000Z",
         "DataSetArns": [
          "arn:aws:quicksight:us-east-1:499080683179:dataset/Admin-Console-dataset-info-2025"
         ],
         "Errors": [],
         "Sheets": [
          {
           "Name": "Sheet 1",
           "SheetId": "d41a3c00-e581-4ec2-969c-4778562bedd3_275fd5f4-deec-4a9a-b243-3a347ab7957c"
          }
         ],
         "Status": "CREATION_SUCCESSFUL",
         "VersionNumber": 1
        }
       },
       "RequestId": "81e2c6bb-4b3f-4cd1-b81d-c27466c95475",
       "ResponseMetadata": {
        "HTTPHeaders": {
         "connection": "keep-alive",
         "content-length": "1204",
         "content-type": "application/json",
         "date": "Fri, 20 Jun 2025 22:11:50 GMT",
         "strict-transport-security": "max-age=31536000; includeSubdomains; preload",
         "x-amzn-requestid": "81e2c6bb-4b3f-4cd1-b81d-c27466c95475"
        },
        "HTTPStatusCode": 200,
        "RequestId": "81e2c6bb-4b3f-4cd1-b81d-c27466c95475",
        "RetryAttempts": 0
       },
       "Status": 200
      },
      "text/plain": [
       "<IPython.core.display.JSON object>"
      ]
     },
     "execution_count": 123,
     "metadata": {
      "application/json": {
       "expanded": false,
       "root": "root"
      }
     },
     "output_type": "execute_result"
    }
   ],
   "source": [
    "response = qs_client_target.describe_dashboard(\n",
    "    AwsAccountId=target_account_id,\n",
    "    DashboardId=target_asset\n",
    ")\n",
    "\n",
    "from IPython.display import JSON\n",
    "JSON(response)"
   ]
  },
  {
   "cell_type": "code",
   "execution_count": 125,
   "id": "a4bbd8b6",
   "metadata": {},
   "outputs": [
    {
     "name": "stdout",
     "output_type": "stream",
     "text": [
      "Admin-Console-dataset-info-2025 permissions are updated\n"
     ]
    }
   ],
   "source": [
    "from IPython.display import JSON\n",
    "\n",
    "datasets = response['Dashboard']['Version']['DataSetArns']\n",
    "for dataset in datasets:\n",
    "    dsid = dataset.split(\":\")[-1].split(\"/\")[-1]\n",
    "    res = qs_client_target.update_data_set_permissions(\n",
    "    AwsAccountId=target_account_id,\n",
    "    DataSetId = dsid,\n",
    "    GrantPermissions=[\n",
    "        {\n",
    "            'Principal': targetadmin,\n",
    "            'Actions': [\n",
    "                 \"quicksight:UpdateDataSetPermissions\",\n",
    "              \"quicksight:DescribeDataSet\",\n",
    "              \"quicksight:DescribeDataSetPermissions\",\n",
    "              \"quicksight:PassDataSet\",\n",
    "              \"quicksight:DescribeIngestion\",\n",
    "              \"quicksight:ListIngestions\",\n",
    "              \"quicksight:UpdateDataSet\",\n",
    "              \"quicksight:DeleteDataSet\",\n",
    "              \"quicksight:CreateIngestion\",\n",
    "              \"quicksight:CancelIngestion\"\n",
    "            ]\n",
    "        }\n",
    "    ]\n",
    "    \n",
    "  )\n",
    "    JSON(res)\n",
    "    print(dsid + \" permissions are updated\" )\n",
    "    \n",
    "  \n",
    "    "
   ]
  },
  {
   "cell_type": "code",
   "execution_count": null,
   "id": "53a8c695",
   "metadata": {
    "jupyter": {
     "source_hidden": true
    }
   },
   "outputs": [],
   "source": []
  }
 ],
 "metadata": {
  "kernelspec": {
   "display_name": "conda_python3",
   "language": "python",
   "name": "conda_python3"
  },
  "language_info": {
   "codemirror_mode": {
    "name": "ipython",
    "version": 3
   },
   "file_extension": ".py",
   "mimetype": "text/x-python",
   "name": "python",
   "nbconvert_exporter": "python",
   "pygments_lexer": "ipython3",
   "version": "3.8.12"
  }
 },
 "nbformat": 4,
 "nbformat_minor": 5
}
